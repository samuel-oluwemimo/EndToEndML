{
 "cells": [
  {
   "cell_type": "code",
   "execution_count": 12,
   "metadata": {},
   "outputs": [],
   "source": [
    "import numpy as np\n",
    "import pandas as pd\n",
    "import matplotlib.pyplot as plt \n",
    "import seaborn as sns\n",
    "\n",
    "from Preprocessing import preprocess_data\n",
    "\n",
    "from sklearn.linear_model import LogisticRegression\n",
    "from sklearn.tree import DecisionTreeClassifier\n",
    "from sklearn.ensemble import RandomForestClassifier\n",
    "from sklearn.neighbors import KNeighborsClassifier\n",
    "from sklearn.svm import SVC\n",
    "from catboost import CatBoostClassifier\n",
    "from xgboost import XGBClassifier\n",
    "from lightgbm import LGBMClassifier\n",
    "\n",
    "from sklearn.metrics import accuracy_score, precision_score, recall_score, f1_score, roc_auc_score, confusion_matrix, log_loss\n",
    "from sklearn.model_selection import RandomizedSearchCV\n",
    "import warnings"
   ]
  },
  {
   "cell_type": "code",
   "execution_count": 13,
   "metadata": {},
   "outputs": [],
   "source": [
    "# Getting the train and test set\n",
    "file_path = 'data\\loan.csv'\n",
    "target_column = 'LoanApproved'\n",
    "X_train, X_test, y_train, y_test = preprocess_data(file_path, target_column, test_size=0.33,\n",
    "                                                    random_state=42, apply_pca=True, pca_variance=0.95)"
   ]
  },
  {
   "cell_type": "code",
   "execution_count": 3,
   "metadata": {},
   "outputs": [],
   "source": [
    "# Defining our performance metrics\n",
    "def performance_metrics(true, predicted):\n",
    "    accuracy_score = accuracy_score(true, predicted)\n",
    "    precision_score = precision_score(true, predicted)\n",
    "    recall_score = recall_score(true, predicted)\n",
    "    f1_score = f1_score(true, predicted)\n",
    "    roc_auc_score = roc_auc_score(true, predicted)\n",
    "    confusion_matrix = confusion_matrix(true, predicted)\n",
    "    log_loss = log_loss(true, predicted)\n",
    "\n",
    "    return accuracy_score, precision_score, recall_score, f1_score, roc_auc_score, confusion_matrix, log_loss"
   ]
  },
  {
   "cell_type": "code",
   "execution_count": null,
   "metadata": {},
   "outputs": [],
   "source": [
    "# listing all the models we are going to use\n",
    "models = {\n",
    "    'LogisticRegression':LogisticRegression(),\n",
    "    'DecisionTreeClassifier':DecisionTreeClassifier(),\n",
    "    'RandomForestClassifier':RandomForestClassifier(),\n",
    "    'KNeighborsClassifier':KNeighborsClassifier(),\n",
    "    'SVC':SVC(),\n",
    "    'CatBoostClassifier':CatBoostClassifier(),\n",
    "    'XGBClassifier':XGBClassifier(),\n",
    "    'LGBMClassifier':LGBMClassifier()\n",
    "}\n",
    "\n",
    "model_list = []\n",
    "r2_list =[]\n",
    "\n",
    "\n",
    "def model_trainer():\n",
    "    for i in range(len(list(models))):\n",
    "        # will continue tomorrow"
   ]
  }
 ],
 "metadata": {
  "kernelspec": {
   "display_name": "Python 3",
   "language": "python",
   "name": "python3"
  },
  "language_info": {
   "codemirror_mode": {
    "name": "ipython",
    "version": 3
   },
   "file_extension": ".py",
   "mimetype": "text/x-python",
   "name": "python",
   "nbconvert_exporter": "python",
   "pygments_lexer": "ipython3",
   "version": "3.8.20"
  }
 },
 "nbformat": 4,
 "nbformat_minor": 2
}
